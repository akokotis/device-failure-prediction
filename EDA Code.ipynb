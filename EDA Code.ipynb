{
 "cells": [
  {
   "cell_type": "code",
   "execution_count": 2,
   "id": "ffa6e2c0",
   "metadata": {
    "scrolled": false
   },
   "outputs": [
    {
     "data": {
      "text/plain": [
       "0    124388\n",
       "1       106\n",
       "Name: failure, dtype: int64"
      ]
     },
     "execution_count": 2,
     "metadata": {},
     "output_type": "execute_result"
    }
   ],
   "source": [
    "# class balance of Failure\n",
    "raw_data['failure'].value_counts()"
   ]
  },
  {
   "cell_type": "code",
   "execution_count": 3,
   "id": "84004144",
   "metadata": {
    "scrolled": false
   },
   "outputs": [
    {
     "data": {
      "text/plain": [
       "device\n",
       "S1F01085     6\n",
       "S1F013BB     6\n",
       "S1F0166B     6\n",
       "S1F01E6Y    48\n",
       "S1F01JE0     6\n",
       "Name: date, dtype: int64"
      ]
     },
     "execution_count": 3,
     "metadata": {},
     "output_type": "execute_result"
    }
   ],
   "source": [
    "# Number of observations per device id\n",
    "obs_per_device=raw_data.groupby(['device'])['date'].nunique()\n",
    "obs_per_device.head()"
   ]
  },
  {
   "cell_type": "code",
   "execution_count": 4,
   "id": "69f07860",
   "metadata": {
    "scrolled": true
   },
   "outputs": [
    {
     "name": "stdout",
     "output_type": "stream",
     "text": [
      "# of devices that have both a recorded non-failure and failure:  106\n"
     ]
    }
   ],
   "source": [
    "# Do devices have observations of both failures and non-failures?\n",
    "failures_per_device=raw_data.groupby(['device'])['failure'].max()\n",
    "check=pd.merge(raw_data.loc[:,('device','failure')],failures_per_device, on='device', how='left')\n",
    "print(\"# of devices that have both a recorded non-failure and failure: \",\\\n",
    "      len(check.loc[check.failure_x!=check.failure_y,'device'].drop_duplicates()))"
   ]
  },
  {
   "cell_type": "code",
   "execution_count": 5,
   "id": "f461f8c7",
   "metadata": {
    "scrolled": true
   },
   "outputs": [
    {
     "name": "stdout",
     "output_type": "stream",
     "text": [
      "Min Date:  2015-01-01 \n",
      "Max Date:  2015-11-02\n"
     ]
    },
    {
     "data": {
      "image/png": "[encoded data removed]",
      "text/plain": [
       "<Figure size 432x288 with 1 Axes>"
      ]
     },
     "metadata": {
      "needs_background": "light"
     },
     "output_type": "display_data"
    }
   ],
   "source": [
    "# Timeframe of data\n",
    "import seaborn as sns\n",
    "hist_date=sns.histplot(data=raw_data, x=\"date\")\n",
    "print(\"Min Date: \",min(raw_data.date),\"\\nMax Date: \",max(raw_data.date))"
   ]
  },
  {
   "cell_type": "code",
   "execution_count": 6,
   "id": "2a6154d0",
   "metadata": {
    "scrolled": true
   },
   "outputs": [
    {
     "data": {
      "text/html": [
       "<div>\n",
       "<style scoped>\n",
       "    .dataframe tbody tr th:only-of-type {\n",
       "        vertical-align: middle;\n",
       "    }\n",
       "\n",
       "    .dataframe tbody tr th {\n",
       "        vertical-align: top;\n",
       "    }\n",
       "\n",
       "    .dataframe thead th {\n",
       "        text-align: right;\n",
       "    }\n",
       "</style>\n",
       "<table border=\"1\" class=\"dataframe\">\n",
       "  <thead>\n",
       "    <tr style=\"text-align: right;\">\n",
       "      <th></th>\n",
       "      <th>device</th>\n",
       "    </tr>\n",
       "  </thead>\n",
       "  <tbody>\n",
       "  </tbody>\n",
       "</table>\n",
       "</div>"
      ],
      "text/plain": [
       "Empty DataFrame\n",
       "Columns: [device]\n",
       "Index: []"
      ]
     },
     "execution_count": 6,
     "metadata": {},
     "output_type": "execute_result"
    }
   ],
   "source": [
    "# split dataset 75/25\n",
    "import numpy as num\n",
    "from sklearn.model_selection import train_test_split\n",
    "\n",
    "subjects = raw_data.groupby('device').last().reset_index() #most recent measurement for each device\n",
    "pre_train, pre_test_set=train_test_split(subjects['device'], train_size=0.75, test_size=0.25, stratify=subjects['failure'])\n",
    "\n",
    "# ensure no overlap\n",
    "pd.merge(pre_train,pre_test_set, on='device', how='inner')"
   ]
  },
  {
   "cell_type": "code",
   "execution_count": 7,
   "id": "e90b5286",
   "metadata": {},
   "outputs": [],
   "source": [
    "train=raw_data[raw_data.device.isin(pre_train)]\n",
    "test_set=raw_data[raw_data.device.isin(pre_test_set)]"
   ]
  },
  {
   "cell_type": "code",
   "execution_count": 8,
   "id": "ad393392",
   "metadata": {},
   "outputs": [
    {
     "name": "stdout",
     "output_type": "stream",
     "text": [
      "Train set obs count  94578 \n",
      "Test set obs count  29916\n"
     ]
    }
   ],
   "source": [
    "print(\"Train set obs count \", train.shape[0],\\\n",
    "      \"\\nTest set obs count \", test_set.shape[0])"
   ]
  },
  {
   "cell_type": "code",
   "execution_count": 9,
   "id": "649e837b",
   "metadata": {
    "scrolled": true
   },
   "outputs": [
    {
     "name": "stdout",
     "output_type": "stream",
     "text": [
      "Train set failures are  0.08564359576222799 % of data.\n",
      "Test set failures are  0.08356732183446985 % of data.\n"
     ]
    }
   ],
   "source": [
    "# inspect 'failure' balance in train and test datasets\n",
    "print(\"Train set failures are \", (train['failure'].value_counts()[1])/(len(train['failure']))*100,\\\n",
    "      \"% of data.\\nTest set failures are \", (test_set['failure'].value_counts()[1])/(len(test_set['failure']))*100,\\\n",
    "      \"% of data.\")"
   ]
  },
  {
   "cell_type": "code",
   "execution_count": 12,
   "id": "bc5da79a",
   "metadata": {
    "scrolled": false
   },
   "outputs": [
    {
     "data": {
      "image/png": "[encoded data removed]",
      "text/plain": [
       "<Figure size 432x288 with 1 Axes>"
      ]
     },
     "metadata": {
      "needs_background": "light"
     },
     "output_type": "display_data"
    },
    {
     "data": {
      "image/png": "[encoded data removed]",
      "text/plain": [
       "<Figure size 432x288 with 1 Axes>"
      ]
     },
     "metadata": {
      "needs_background": "light"
     },
     "output_type": "display_data"
    }
   ],
   "source": [
    "# Explore continuous variables via boxplots\n",
    "import statsmodels.api as sm\n",
    "box_v1 = sns.boxplot(x=\"attribute1\", data=train)\n",
    "qq_v1=sm.qqplot(train.attribute1,fit=True, line=\"45\")"
   ]
  },
  {
   "cell_type": "code",
   "execution_count": 20,
   "id": "45a85ed2",
   "metadata": {},
   "outputs": [
    {
     "name": "stdout",
     "output_type": "stream",
     "text": [
      "Pearson correlation between Attr7 and Attr8 is:  1.0\n"
     ]
    }
   ],
   "source": [
    "print(\"Pearson correlation between Attr7 and Attr8 is: \", stats.pearsonr(train.attribute7,train.attribute8)[0])"
   ]
  },
  {
   "cell_type": "code",
   "execution_count": 34,
   "id": "5bbdbc9f",
   "metadata": {
    "scrolled": false
   },
   "outputs": [
    {
     "data": {
      "text/html": [
       "<div>\n",
       "<style scoped>\n",
       "    .dataframe tbody tr th:only-of-type {\n",
       "        vertical-align: middle;\n",
       "    }\n",
       "\n",
       "    .dataframe tbody tr th {\n",
       "        vertical-align: top;\n",
       "    }\n",
       "\n",
       "    .dataframe thead th {\n",
       "        text-align: right;\n",
       "    }\n",
       "</style>\n",
       "<table border=\"1\" class=\"dataframe\">\n",
       "  <thead>\n",
       "    <tr style=\"text-align: right;\">\n",
       "      <th></th>\n",
       "      <th>median_att1</th>\n",
       "      <th>median_att2</th>\n",
       "      <th>median_att3</th>\n",
       "      <th>median_att4</th>\n",
       "      <th>median_att5</th>\n",
       "      <th>median_att6</th>\n",
       "      <th>median_att7</th>\n",
       "      <th>median_att9</th>\n",
       "      <th>max_att1</th>\n",
       "      <th>max_att2</th>\n",
       "      <th>max_att3</th>\n",
       "      <th>max_att4</th>\n",
       "      <th>max_att5</th>\n",
       "      <th>max_att6</th>\n",
       "      <th>max_att7</th>\n",
       "      <th>max_att9</th>\n",
       "      <th>days_since_start</th>\n",
       "      <th>failure</th>\n",
       "    </tr>\n",
       "  </thead>\n",
       "  <tbody>\n",
       "    <tr>\n",
       "      <th>median_att1</th>\n",
       "      <td>1.000000</td>\n",
       "      <td>-0.093795</td>\n",
       "      <td>0.086561</td>\n",
       "      <td>-0.018875</td>\n",
       "      <td>-0.034672</td>\n",
       "      <td>0.014617</td>\n",
       "      <td>-0.080493</td>\n",
       "      <td>0.098803</td>\n",
       "      <td>0.288980</td>\n",
       "      <td>-0.071836</td>\n",
       "      <td>0.086934</td>\n",
       "      <td>-0.053335</td>\n",
       "      <td>-0.034657</td>\n",
       "      <td>0.011484</td>\n",
       "      <td>-0.044954</td>\n",
       "      <td>0.098881</td>\n",
       "      <td>-0.039860</td>\n",
       "      <td>-0.015747</td>\n",
       "    </tr>\n",
       "    <tr>\n",
       "      <th>median_att2</th>\n",
       "      <td>-0.093795</td>\n",
       "      <td>1.000000</td>\n",
       "      <td>0.000210</td>\n",
       "      <td>0.175982</td>\n",
       "      <td>-0.024385</td>\n",
       "      <td>-0.048257</td>\n",
       "      <td>0.150562</td>\n",
       "      <td>0.000340</td>\n",
       "      <td>-0.187057</td>\n",
       "      <td>0.707323</td>\n",
       "      <td>0.000192</td>\n",
       "      <td>0.245851</td>\n",
       "      <td>-0.026398</td>\n",
       "      <td>-0.058932</td>\n",
       "      <td>0.032962</td>\n",
       "      <td>0.000339</td>\n",
       "      <td>-0.080109</td>\n",
       "      <td>0.046528</td>\n",
       "    </tr>\n",
       "    <tr>\n",
       "      <th>median_att3</th>\n",
       "      <td>0.086561</td>\n",
       "      <td>0.000210</td>\n",
       "      <td>1.000000</td>\n",
       "      <td>0.402501</td>\n",
       "      <td>-0.025366</td>\n",
       "      <td>0.033574</td>\n",
       "      <td>-0.003355</td>\n",
       "      <td>0.473810</td>\n",
       "      <td>0.016969</td>\n",
       "      <td>-0.002818</td>\n",
       "      <td>0.999990</td>\n",
       "      <td>0.215848</td>\n",
       "      <td>-0.026074</td>\n",
       "      <td>0.026049</td>\n",
       "      <td>-0.004576</td>\n",
       "      <td>0.473814</td>\n",
       "      <td>-0.032790</td>\n",
       "      <td>-0.012815</td>\n",
       "    </tr>\n",
       "    <tr>\n",
       "      <th>median_att4</th>\n",
       "      <td>-0.018875</td>\n",
       "      <td>0.175982</td>\n",
       "      <td>0.402501</td>\n",
       "      <td>1.000000</td>\n",
       "      <td>-0.027615</td>\n",
       "      <td>0.009411</td>\n",
       "      <td>0.032916</td>\n",
       "      <td>0.183715</td>\n",
       "      <td>-0.155679</td>\n",
       "      <td>0.121202</td>\n",
       "      <td>0.402471</td>\n",
       "      <td>0.593524</td>\n",
       "      <td>-0.029523</td>\n",
       "      <td>-0.004144</td>\n",
       "      <td>0.002039</td>\n",
       "      <td>0.183707</td>\n",
       "      <td>-0.075176</td>\n",
       "      <td>0.026650</td>\n",
       "    </tr>\n",
       "    <tr>\n",
       "      <th>median_att5</th>\n",
       "      <td>-0.034672</td>\n",
       "      <td>-0.024385</td>\n",
       "      <td>-0.025366</td>\n",
       "      <td>-0.027615</td>\n",
       "      <td>1.000000</td>\n",
       "      <td>-0.023365</td>\n",
       "      <td>-0.035355</td>\n",
       "      <td>-0.024449</td>\n",
       "      <td>0.149348</td>\n",
       "      <td>-0.033605</td>\n",
       "      <td>-0.025406</td>\n",
       "      <td>-0.028249</td>\n",
       "      <td>0.998477</td>\n",
       "      <td>-0.022289</td>\n",
       "      <td>-0.009485</td>\n",
       "      <td>-0.024417</td>\n",
       "      <td>0.166700</td>\n",
       "      <td>0.031879</td>\n",
       "    </tr>\n",
       "    <tr>\n",
       "      <th>median_att6</th>\n",
       "      <td>0.014617</td>\n",
       "      <td>-0.048257</td>\n",
       "      <td>0.033574</td>\n",
       "      <td>0.009411</td>\n",
       "      <td>-0.023365</td>\n",
       "      <td>1.000000</td>\n",
       "      <td>0.012278</td>\n",
       "      <td>0.035637</td>\n",
       "      <td>-0.003322</td>\n",
       "      <td>-0.031300</td>\n",
       "      <td>0.033762</td>\n",
       "      <td>-0.017238</td>\n",
       "      <td>-0.023546</td>\n",
       "      <td>0.971897</td>\n",
       "      <td>-0.038891</td>\n",
       "      <td>0.035670</td>\n",
       "      <td>-0.002136</td>\n",
       "      <td>-0.009818</td>\n",
       "    </tr>\n",
       "    <tr>\n",
       "      <th>median_att7</th>\n",
       "      <td>-0.080493</td>\n",
       "      <td>0.150562</td>\n",
       "      <td>-0.003355</td>\n",
       "      <td>0.032916</td>\n",
       "      <td>-0.035355</td>\n",
       "      <td>0.012278</td>\n",
       "      <td>1.000000</td>\n",
       "      <td>-0.005134</td>\n",
       "      <td>-0.189680</td>\n",
       "      <td>0.101836</td>\n",
       "      <td>-0.003369</td>\n",
       "      <td>0.066413</td>\n",
       "      <td>-0.036923</td>\n",
       "      <td>0.002465</td>\n",
       "      <td>0.267646</td>\n",
       "      <td>-0.005141</td>\n",
       "      <td>-0.071944</td>\n",
       "      <td>0.061395</td>\n",
       "    </tr>\n",
       "    <tr>\n",
       "      <th>median_att9</th>\n",
       "      <td>0.098803</td>\n",
       "      <td>0.000340</td>\n",
       "      <td>0.473810</td>\n",
       "      <td>0.183715</td>\n",
       "      <td>-0.024449</td>\n",
       "      <td>0.035637</td>\n",
       "      <td>-0.005134</td>\n",
       "      <td>1.000000</td>\n",
       "      <td>0.007225</td>\n",
       "      <td>-0.004330</td>\n",
       "      <td>0.473787</td>\n",
       "      <td>0.095909</td>\n",
       "      <td>-0.025849</td>\n",
       "      <td>0.024488</td>\n",
       "      <td>0.022776</td>\n",
       "      <td>0.999999</td>\n",
       "      <td>-0.059546</td>\n",
       "      <td>-0.016594</td>\n",
       "    </tr>\n",
       "    <tr>\n",
       "      <th>max_att1</th>\n",
       "      <td>0.288980</td>\n",
       "      <td>-0.187057</td>\n",
       "      <td>0.016969</td>\n",
       "      <td>-0.155679</td>\n",
       "      <td>0.149348</td>\n",
       "      <td>-0.003322</td>\n",
       "      <td>-0.189680</td>\n",
       "      <td>0.007225</td>\n",
       "      <td>1.000000</td>\n",
       "      <td>-0.101418</td>\n",
       "      <td>0.017004</td>\n",
       "      <td>-0.125117</td>\n",
       "      <td>0.157712</td>\n",
       "      <td>0.063246</td>\n",
       "      <td>-0.020145</td>\n",
       "      <td>0.007262</td>\n",
       "      <td>0.485168</td>\n",
       "      <td>0.091467</td>\n",
       "    </tr>\n",
       "    <tr>\n",
       "      <th>max_att2</th>\n",
       "      <td>-0.071836</td>\n",
       "      <td>0.707323</td>\n",
       "      <td>-0.002818</td>\n",
       "      <td>0.121202</td>\n",
       "      <td>-0.033605</td>\n",
       "      <td>-0.031300</td>\n",
       "      <td>0.101836</td>\n",
       "      <td>-0.004330</td>\n",
       "      <td>-0.101418</td>\n",
       "      <td>1.000000</td>\n",
       "      <td>-0.002840</td>\n",
       "      <td>0.257798</td>\n",
       "      <td>-0.033310</td>\n",
       "      <td>-0.034724</td>\n",
       "      <td>0.049599</td>\n",
       "      <td>-0.004335</td>\n",
       "      <td>-0.015269</td>\n",
       "      <td>0.143352</td>\n",
       "    </tr>\n",
       "    <tr>\n",
       "      <th>max_att3</th>\n",
       "      <td>0.086934</td>\n",
       "      <td>0.000192</td>\n",
       "      <td>0.999990</td>\n",
       "      <td>0.402471</td>\n",
       "      <td>-0.025406</td>\n",
       "      <td>0.033762</td>\n",
       "      <td>-0.003369</td>\n",
       "      <td>0.473787</td>\n",
       "      <td>0.017004</td>\n",
       "      <td>-0.002840</td>\n",
       "      <td>1.000000</td>\n",
       "      <td>0.215829</td>\n",
       "      <td>-0.026116</td>\n",
       "      <td>0.026206</td>\n",
       "      <td>-0.004328</td>\n",
       "      <td>0.473794</td>\n",
       "      <td>-0.032919</td>\n",
       "      <td>-0.012872</td>\n",
       "    </tr>\n",
       "    <tr>\n",
       "      <th>max_att4</th>\n",
       "      <td>-0.053335</td>\n",
       "      <td>0.245851</td>\n",
       "      <td>0.215848</td>\n",
       "      <td>0.593524</td>\n",
       "      <td>-0.028249</td>\n",
       "      <td>-0.017238</td>\n",
       "      <td>0.066413</td>\n",
       "      <td>0.095909</td>\n",
       "      <td>-0.125117</td>\n",
       "      <td>0.257798</td>\n",
       "      <td>0.215829</td>\n",
       "      <td>1.000000</td>\n",
       "      <td>-0.019065</td>\n",
       "      <td>-0.027865</td>\n",
       "      <td>0.036858</td>\n",
       "      <td>0.095899</td>\n",
       "      <td>-0.039197</td>\n",
       "      <td>0.186747</td>\n",
       "    </tr>\n",
       "    <tr>\n",
       "      <th>max_att5</th>\n",
       "      <td>-0.034657</td>\n",
       "      <td>-0.026398</td>\n",
       "      <td>-0.026074</td>\n",
       "      <td>-0.029523</td>\n",
       "      <td>0.998477</td>\n",
       "      <td>-0.023546</td>\n",
       "      <td>-0.036923</td>\n",
       "      <td>-0.025849</td>\n",
       "      <td>0.157712</td>\n",
       "      <td>-0.033310</td>\n",
       "      <td>-0.026116</td>\n",
       "      <td>-0.019065</td>\n",
       "      <td>1.000000</td>\n",
       "      <td>-0.018558</td>\n",
       "      <td>-0.009343</td>\n",
       "      <td>-0.025818</td>\n",
       "      <td>0.186402</td>\n",
       "      <td>0.035005</td>\n",
       "    </tr>\n",
       "    <tr>\n",
       "      <th>max_att6</th>\n",
       "      <td>0.011484</td>\n",
       "      <td>-0.058932</td>\n",
       "      <td>0.026049</td>\n",
       "      <td>-0.004144</td>\n",
       "      <td>-0.022289</td>\n",
       "      <td>0.971897</td>\n",
       "      <td>0.002465</td>\n",
       "      <td>0.024488</td>\n",
       "      <td>0.063246</td>\n",
       "      <td>-0.034724</td>\n",
       "      <td>0.026206</td>\n",
       "      <td>-0.027865</td>\n",
       "      <td>-0.018558</td>\n",
       "      <td>1.000000</td>\n",
       "      <td>-0.044075</td>\n",
       "      <td>0.024528</td>\n",
       "      <td>0.172253</td>\n",
       "      <td>-0.024310</td>\n",
       "    </tr>\n",
       "    <tr>\n",
       "      <th>max_att7</th>\n",
       "      <td>-0.044954</td>\n",
       "      <td>0.032962</td>\n",
       "      <td>-0.004576</td>\n",
       "      <td>0.002039</td>\n",
       "      <td>-0.009485</td>\n",
       "      <td>-0.038891</td>\n",
       "      <td>0.267646</td>\n",
       "      <td>0.022776</td>\n",
       "      <td>-0.020145</td>\n",
       "      <td>0.049599</td>\n",
       "      <td>-0.004328</td>\n",
       "      <td>0.036858</td>\n",
       "      <td>-0.009343</td>\n",
       "      <td>-0.044075</td>\n",
       "      <td>1.000000</td>\n",
       "      <td>0.022776</td>\n",
       "      <td>-0.002864</td>\n",
       "      <td>0.177879</td>\n",
       "    </tr>\n",
       "    <tr>\n",
       "      <th>max_att9</th>\n",
       "      <td>0.098881</td>\n",
       "      <td>0.000339</td>\n",
       "      <td>0.473814</td>\n",
       "      <td>0.183707</td>\n",
       "      <td>-0.024417</td>\n",
       "      <td>0.035670</td>\n",
       "      <td>-0.005141</td>\n",
       "      <td>0.999999</td>\n",
       "      <td>0.007262</td>\n",
       "      <td>-0.004335</td>\n",
       "      <td>0.473794</td>\n",
       "      <td>0.095899</td>\n",
       "      <td>-0.025818</td>\n",
       "      <td>0.024528</td>\n",
       "      <td>0.022776</td>\n",
       "      <td>1.000000</td>\n",
       "      <td>-0.059544</td>\n",
       "      <td>-0.016543</td>\n",
       "    </tr>\n",
       "    <tr>\n",
       "      <th>days_since_start</th>\n",
       "      <td>-0.039860</td>\n",
       "      <td>-0.080109</td>\n",
       "      <td>-0.032790</td>\n",
       "      <td>-0.075176</td>\n",
       "      <td>0.166700</td>\n",
       "      <td>-0.002136</td>\n",
       "      <td>-0.071944</td>\n",
       "      <td>-0.059546</td>\n",
       "      <td>0.485168</td>\n",
       "      <td>-0.015269</td>\n",
       "      <td>-0.032919</td>\n",
       "      <td>-0.039197</td>\n",
       "      <td>0.186402</td>\n",
       "      <td>0.172253</td>\n",
       "      <td>-0.002864</td>\n",
       "      <td>-0.059544</td>\n",
       "      <td>1.000000</td>\n",
       "      <td>-0.018014</td>\n",
       "    </tr>\n",
       "    <tr>\n",
       "      <th>failure</th>\n",
       "      <td>-0.015747</td>\n",
       "      <td>0.046528</td>\n",
       "      <td>-0.012815</td>\n",
       "      <td>0.026650</td>\n",
       "      <td>0.031879</td>\n",
       "      <td>-0.009818</td>\n",
       "      <td>0.061395</td>\n",
       "      <td>-0.016594</td>\n",
       "      <td>0.091467</td>\n",
       "      <td>0.143352</td>\n",
       "      <td>-0.012872</td>\n",
       "      <td>0.186747</td>\n",
       "      <td>0.035005</td>\n",
       "      <td>-0.024310</td>\n",
       "      <td>0.177879</td>\n",
       "      <td>-0.016543</td>\n",
       "      <td>-0.018014</td>\n",
       "      <td>1.000000</td>\n",
       "    </tr>\n",
       "  </tbody>\n",
       "</table>\n",
       "</div>"
      ],
      "text/plain": [
       "                  median_att1  median_att2  median_att3  median_att4  \\\n",
       "median_att1          1.000000    -0.093795     0.086561    -0.018875   \n",
       "median_att2         -0.093795     1.000000     0.000210     0.175982   \n",
       "median_att3          0.086561     0.000210     1.000000     0.402501   \n",
       "median_att4         -0.018875     0.175982     0.402501     1.000000   \n",
       "median_att5         -0.034672    -0.024385    -0.025366    -0.027615   \n",
       "median_att6          0.014617    -0.048257     0.033574     0.009411   \n",
       "median_att7         -0.080493     0.150562    -0.003355     0.032916   \n",
       "median_att9          0.098803     0.000340     0.473810     0.183715   \n",
       "max_att1             0.288980    -0.187057     0.016969    -0.155679   \n",
       "max_att2            -0.071836     0.707323    -0.002818     0.121202   \n",
       "max_att3             0.086934     0.000192     0.999990     0.402471   \n",
       "max_att4            -0.053335     0.245851     0.215848     0.593524   \n",
       "max_att5            -0.034657    -0.026398    -0.026074    -0.029523   \n",
       "max_att6             0.011484    -0.058932     0.026049    -0.004144   \n",
       "max_att7            -0.044954     0.032962    -0.004576     0.002039   \n",
       "max_att9             0.098881     0.000339     0.473814     0.183707   \n",
       "days_since_start    -0.039860    -0.080109    -0.032790    -0.075176   \n",
       "failure             -0.015747     0.046528    -0.012815     0.026650   \n",
       "\n",
       "                  median_att5  median_att6  median_att7  median_att9  \\\n",
       "median_att1         -0.034672     0.014617    -0.080493     0.098803   \n",
       "median_att2         -0.024385    -0.048257     0.150562     0.000340   \n",
       "median_att3         -0.025366     0.033574    -0.003355     0.473810   \n",
       "median_att4         -0.027615     0.009411     0.032916     0.183715   \n",
       "median_att5          1.000000    -0.023365    -0.035355    -0.024449   \n",
       "median_att6         -0.023365     1.000000     0.012278     0.035637   \n",
       "median_att7         -0.035355     0.012278     1.000000    -0.005134   \n",
       "median_att9         -0.024449     0.035637    -0.005134     1.000000   \n",
       "max_att1             0.149348    -0.003322    -0.189680     0.007225   \n",
       "max_att2            -0.033605    -0.031300     0.101836    -0.004330   \n",
       "max_att3            -0.025406     0.033762    -0.003369     0.473787   \n",
       "max_att4            -0.028249    -0.017238     0.066413     0.095909   \n",
       "max_att5             0.998477    -0.023546    -0.036923    -0.025849   \n",
       "max_att6            -0.022289     0.971897     0.002465     0.024488   \n",
       "max_att7            -0.009485    -0.038891     0.267646     0.022776   \n",
       "max_att9            -0.024417     0.035670    -0.005141     0.999999   \n",
       "days_since_start     0.166700    -0.002136    -0.071944    -0.059546   \n",
       "failure              0.031879    -0.009818     0.061395    -0.016594   \n",
       "\n",
       "                  max_att1  max_att2  max_att3  max_att4  max_att5  max_att6  \\\n",
       "median_att1       0.288980 -0.071836  0.086934 -0.053335 -0.034657  0.011484   \n",
       "median_att2      -0.187057  0.707323  0.000192  0.245851 -0.026398 -0.058932   \n",
       "median_att3       0.016969 -0.002818  0.999990  0.215848 -0.026074  0.026049   \n",
       "median_att4      -0.155679  0.121202  0.402471  0.593524 -0.029523 -0.004144   \n",
       "median_att5       0.149348 -0.033605 -0.025406 -0.028249  0.998477 -0.022289   \n",
       "median_att6      -0.003322 -0.031300  0.033762 -0.017238 -0.023546  0.971897   \n",
       "median_att7      -0.189680  0.101836 -0.003369  0.066413 -0.036923  0.002465   \n",
       "median_att9       0.007225 -0.004330  0.473787  0.095909 -0.025849  0.024488   \n",
       "max_att1          1.000000 -0.101418  0.017004 -0.125117  0.157712  0.063246   \n",
       "max_att2         -0.101418  1.000000 -0.002840  0.257798 -0.033310 -0.034724   \n",
       "max_att3          0.017004 -0.002840  1.000000  0.215829 -0.026116  0.026206   \n",
       "max_att4         -0.125117  0.257798  0.215829  1.000000 -0.019065 -0.027865   \n",
       "max_att5          0.157712 -0.033310 -0.026116 -0.019065  1.000000 -0.018558   \n",
       "max_att6          0.063246 -0.034724  0.026206 -0.027865 -0.018558  1.000000   \n",
       "max_att7         -0.020145  0.049599 -0.004328  0.036858 -0.009343 -0.044075   \n",
       "max_att9          0.007262 -0.004335  0.473794  0.095899 -0.025818  0.024528   \n",
       "days_since_start  0.485168 -0.015269 -0.032919 -0.039197  0.186402  0.172253   \n",
       "failure           0.091467  0.143352 -0.012872  0.186747  0.035005 -0.024310   \n",
       "\n",
       "                  max_att7  max_att9  days_since_start   failure  \n",
       "median_att1      -0.044954  0.098881         -0.039860 -0.015747  \n",
       "median_att2       0.032962  0.000339         -0.080109  0.046528  \n",
       "median_att3      -0.004576  0.473814         -0.032790 -0.012815  \n",
       "median_att4       0.002039  0.183707         -0.075176  0.026650  \n",
       "median_att5      -0.009485 -0.024417          0.166700  0.031879  \n",
       "median_att6      -0.038891  0.035670         -0.002136 -0.009818  \n",
       "median_att7       0.267646 -0.005141         -0.071944  0.061395  \n",
       "median_att9       0.022776  0.999999         -0.059546 -0.016594  \n",
       "max_att1         -0.020145  0.007262          0.485168  0.091467  \n",
       "max_att2          0.049599 -0.004335         -0.015269  0.143352  \n",
       "max_att3         -0.004328  0.473794         -0.032919 -0.012872  \n",
       "max_att4          0.036858  0.095899         -0.039197  0.186747  \n",
       "max_att5         -0.009343 -0.025818          0.186402  0.035005  \n",
       "max_att6         -0.044075  0.024528          0.172253 -0.024310  \n",
       "max_att7          1.000000  0.022776         -0.002864  0.177879  \n",
       "max_att9          0.022776  1.000000         -0.059544 -0.016543  \n",
       "days_since_start -0.002864 -0.059544          1.000000 -0.018014  \n",
       "failure           0.177879 -0.016543         -0.018014  1.000000  "
      ]
     },
     "execution_count": 34,
     "metadata": {},
     "output_type": "execute_result"
    },
    {
     "data": {
      "image/png": "[encoded data removed]",
      "text/plain": [
       "<Figure size 432x288 with 2 Axes>"
      ]
     },
     "metadata": {
      "needs_background": "light"
     },
     "output_type": "display_data"
    }
   ],
   "source": [
    "# Feature correlations\n",
    "var_corr=final_train_transformed.corr()\n",
    "# plot the heatmap\n",
    "sns.heatmap(var_corr, \n",
    "        xticklabels=var_corr.columns,\n",
    "        yticklabels=var_corr.columns)\n",
    "var_corr"
   ]
  }
 ],
 "metadata": {
  "kernelspec": {
   "display_name": "Python 3 (ipykernel)",
   "language": "python",
   "name": "python3"
  },
  "language_info": {
   "codemirror_mode": {
    "name": "ipython",
    "version": 3
   },
   "file_extension": ".py",
   "mimetype": "text/x-python",
   "name": "python",
   "nbconvert_exporter": "python",
   "pygments_lexer": "ipython3",
   "version": "3.10.5"
  }
 },
 "nbformat": 4,
 "nbformat_minor": 5
}
